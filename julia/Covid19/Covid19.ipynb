{
 "cells": [
  {
   "cell_type": "markdown",
   "metadata": {},
   "source": [
    "# Hello World from Markdown"
   ]
  },
  {
   "cell_type": "code",
   "execution_count": 3,
   "metadata": {},
   "outputs": [
    {
     "name": "stdout",
     "output_type": "stream",
     "text": [
      "Hello, world from Julia\n"
     ]
    }
   ],
   "source": [
    "println(\"Hello, world from Julia\")"
   ]
  },
  {
   "cell_type": "markdown",
   "metadata": {},
   "source": [
    "# Covid 19 Cases and Death\n",
    "# Data Setup\n",
    "Our data comes from\n",
    "[Our World in Data](https://ourworldindata.org-coronavirus-source-data).\n",
    "We use two feeds, the population feed and the all-four-metrics feed.\n",
    "\n",
    "### Packages\n",
    "* Covid19.jl loads, scrubs, and joins the Covid19 case and population data into one datafram\n",
    "* DataFrames for representation of tabular data\n",
    "* Query for support of piped query interface"
   ]
  },
  {
   "cell_type": "code",
   "execution_count": 5,
   "metadata": {},
   "outputs": [
    {
     "data": {
      "text/plain": [
       "180"
      ]
     },
     "execution_count": 5,
     "metadata": {},
     "output_type": "execute_result"
    }
   ],
   "source": [
    "using Covid19, DataFrames, Query\n",
    "ENV[\"COLUMNS\"]=180"
   ]
  },
  {
   "cell_type": "markdown",
   "metadata": {},
   "source": [
    "Data\n",
    "This is an example data frame that shows the use of our toolset.\n",
    "We start with the data for cases\n",
    "Then choose the columns we want\n",
    "Then we filter by the country with the first cases so we'll see data\n",
    "Finally we pipe to a dataframe so we'll keep the data that way."
   ]
  },
  {
   "cell_type": "code",
   "execution_count": 7,
   "metadata": {
    "scrolled": true
   },
   "outputs": [
    {
     "data": {
      "text/html": [
       "<table class=\"data-frame\"><thead><tr><th></th><th>location</th><th>population</th><th>date</th><th>new_cases</th><th>new_deaths</th><th>total_cases</th><th>total_deaths</th></tr><tr><th></th><th>String</th><th>Int64?</th><th>Date…</th><th>Float64</th><th>Float64</th><th>Float64</th><th>Float64</th></tr></thead><tbody><p>335 rows × 7 columns</p><tr><th>1</th><td>China</td><td>1439323774</td><td>2019-12-31</td><td>27.0</td><td>0.0</td><td>27.0</td><td>0.0</td></tr><tr><th>2</th><td>China</td><td>1439323774</td><td>2020-01-01</td><td>0.0</td><td>0.0</td><td>27.0</td><td>0.0</td></tr><tr><th>3</th><td>China</td><td>1439323774</td><td>2020-01-02</td><td>0.0</td><td>0.0</td><td>27.0</td><td>0.0</td></tr><tr><th>4</th><td>China</td><td>1439323774</td><td>2020-01-03</td><td>17.0</td><td>0.0</td><td>44.0</td><td>0.0</td></tr><tr><th>5</th><td>China</td><td>1439323774</td><td>2020-01-04</td><td>0.0</td><td>0.0</td><td>44.0</td><td>0.0</td></tr><tr><th>6</th><td>China</td><td>1439323774</td><td>2020-01-05</td><td>15.0</td><td>0.0</td><td>59.0</td><td>0.0</td></tr><tr><th>7</th><td>China</td><td>1439323774</td><td>2020-01-06</td><td>0.0</td><td>0.0</td><td>59.0</td><td>0.0</td></tr><tr><th>8</th><td>China</td><td>1439323774</td><td>2020-01-07</td><td>0.0</td><td>0.0</td><td>59.0</td><td>0.0</td></tr><tr><th>9</th><td>China</td><td>1439323774</td><td>2020-01-08</td><td>0.0</td><td>0.0</td><td>59.0</td><td>0.0</td></tr><tr><th>10</th><td>China</td><td>1439323774</td><td>2020-01-09</td><td>0.0</td><td>0.0</td><td>59.0</td><td>0.0</td></tr><tr><th>11</th><td>China</td><td>1439323774</td><td>2020-01-10</td><td>0.0</td><td>0.0</td><td>59.0</td><td>0.0</td></tr><tr><th>12</th><td>China</td><td>1439323774</td><td>2020-01-11</td><td>0.0</td><td>1.0</td><td>59.0</td><td>1.0</td></tr><tr><th>13</th><td>China</td><td>1439323774</td><td>2020-01-12</td><td>0.0</td><td>0.0</td><td>59.0</td><td>1.0</td></tr><tr><th>14</th><td>China</td><td>1439323774</td><td>2020-01-13</td><td>0.0</td><td>0.0</td><td>59.0</td><td>1.0</td></tr><tr><th>15</th><td>China</td><td>1439323774</td><td>2020-01-14</td><td>0.0</td><td>0.0</td><td>59.0</td><td>1.0</td></tr><tr><th>16</th><td>China</td><td>1439323774</td><td>2020-01-15</td><td>0.0</td><td>1.0</td><td>59.0</td><td>2.0</td></tr><tr><th>17</th><td>China</td><td>1439323774</td><td>2020-01-16</td><td>0.0</td><td>0.0</td><td>59.0</td><td>2.0</td></tr><tr><th>18</th><td>China</td><td>1439323774</td><td>2020-01-17</td><td>4.0</td><td>0.0</td><td>63.0</td><td>2.0</td></tr><tr><th>19</th><td>China</td><td>1439323774</td><td>2020-01-18</td><td>17.0</td><td>0.0</td><td>80.0</td><td>2.0</td></tr><tr><th>20</th><td>China</td><td>1439323774</td><td>2020-01-19</td><td>136.0</td><td>1.0</td><td>216.0</td><td>3.0</td></tr><tr><th>21</th><td>China</td><td>1439323774</td><td>2020-01-20</td><td>19.0</td><td>0.0</td><td>235.0</td><td>3.0</td></tr><tr><th>22</th><td>China</td><td>1439323774</td><td>2020-01-21</td><td>151.0</td><td>3.0</td><td>386.0</td><td>6.0</td></tr><tr><th>23</th><td>China</td><td>1439323774</td><td>2020-01-22</td><td>140.0</td><td>11.0</td><td>526.0</td><td>17.0</td></tr><tr><th>24</th><td>China</td><td>1439323774</td><td>2020-01-23</td><td>97.0</td><td>0.0</td><td>623.0</td><td>17.0</td></tr><tr><th>25</th><td>China</td><td>1439323774</td><td>2020-01-24</td><td>259.0</td><td>9.0</td><td>882.0</td><td>26.0</td></tr><tr><th>26</th><td>China</td><td>1439323774</td><td>2020-01-25</td><td>441.0</td><td>15.0</td><td>1323.0</td><td>41.0</td></tr><tr><th>27</th><td>China</td><td>1439323774</td><td>2020-01-26</td><td>665.0</td><td>15.0</td><td>1988.0</td><td>56.0</td></tr><tr><th>28</th><td>China</td><td>1439323774</td><td>2020-01-27</td><td>787.0</td><td>25.0</td><td>2775.0</td><td>81.0</td></tr><tr><th>29</th><td>China</td><td>1439323774</td><td>2020-01-28</td><td>1753.0</td><td>25.0</td><td>4528.0</td><td>106.0</td></tr><tr><th>30</th><td>China</td><td>1439323774</td><td>2020-01-29</td><td>1466.0</td><td>26.0</td><td>5994.0</td><td>132.0</td></tr><tr><th>&vellip;</th><td>&vellip;</td><td>&vellip;</td><td>&vellip;</td><td>&vellip;</td><td>&vellip;</td><td>&vellip;</td><td>&vellip;</td></tr></tbody></table>"
      ],
      "text/latex": [
       "\\begin{tabular}{r|ccccccc}\n",
       "\t& location & population & date & new\\_cases & new\\_deaths & total\\_cases & total\\_deaths\\\\\n",
       "\t\\hline\n",
       "\t& String & Int64? & Date… & Float64 & Float64 & Float64 & Float64\\\\\n",
       "\t\\hline\n",
       "\t1 & China & 1439323774 & 2019-12-31 & 27.0 & 0.0 & 27.0 & 0.0 \\\\\n",
       "\t2 & China & 1439323774 & 2020-01-01 & 0.0 & 0.0 & 27.0 & 0.0 \\\\\n",
       "\t3 & China & 1439323774 & 2020-01-02 & 0.0 & 0.0 & 27.0 & 0.0 \\\\\n",
       "\t4 & China & 1439323774 & 2020-01-03 & 17.0 & 0.0 & 44.0 & 0.0 \\\\\n",
       "\t5 & China & 1439323774 & 2020-01-04 & 0.0 & 0.0 & 44.0 & 0.0 \\\\\n",
       "\t6 & China & 1439323774 & 2020-01-05 & 15.0 & 0.0 & 59.0 & 0.0 \\\\\n",
       "\t7 & China & 1439323774 & 2020-01-06 & 0.0 & 0.0 & 59.0 & 0.0 \\\\\n",
       "\t8 & China & 1439323774 & 2020-01-07 & 0.0 & 0.0 & 59.0 & 0.0 \\\\\n",
       "\t9 & China & 1439323774 & 2020-01-08 & 0.0 & 0.0 & 59.0 & 0.0 \\\\\n",
       "\t10 & China & 1439323774 & 2020-01-09 & 0.0 & 0.0 & 59.0 & 0.0 \\\\\n",
       "\t11 & China & 1439323774 & 2020-01-10 & 0.0 & 0.0 & 59.0 & 0.0 \\\\\n",
       "\t12 & China & 1439323774 & 2020-01-11 & 0.0 & 1.0 & 59.0 & 1.0 \\\\\n",
       "\t13 & China & 1439323774 & 2020-01-12 & 0.0 & 0.0 & 59.0 & 1.0 \\\\\n",
       "\t14 & China & 1439323774 & 2020-01-13 & 0.0 & 0.0 & 59.0 & 1.0 \\\\\n",
       "\t15 & China & 1439323774 & 2020-01-14 & 0.0 & 0.0 & 59.0 & 1.0 \\\\\n",
       "\t16 & China & 1439323774 & 2020-01-15 & 0.0 & 1.0 & 59.0 & 2.0 \\\\\n",
       "\t17 & China & 1439323774 & 2020-01-16 & 0.0 & 0.0 & 59.0 & 2.0 \\\\\n",
       "\t18 & China & 1439323774 & 2020-01-17 & 4.0 & 0.0 & 63.0 & 2.0 \\\\\n",
       "\t19 & China & 1439323774 & 2020-01-18 & 17.0 & 0.0 & 80.0 & 2.0 \\\\\n",
       "\t20 & China & 1439323774 & 2020-01-19 & 136.0 & 1.0 & 216.0 & 3.0 \\\\\n",
       "\t21 & China & 1439323774 & 2020-01-20 & 19.0 & 0.0 & 235.0 & 3.0 \\\\\n",
       "\t22 & China & 1439323774 & 2020-01-21 & 151.0 & 3.0 & 386.0 & 6.0 \\\\\n",
       "\t23 & China & 1439323774 & 2020-01-22 & 140.0 & 11.0 & 526.0 & 17.0 \\\\\n",
       "\t24 & China & 1439323774 & 2020-01-23 & 97.0 & 0.0 & 623.0 & 17.0 \\\\\n",
       "\t25 & China & 1439323774 & 2020-01-24 & 259.0 & 9.0 & 882.0 & 26.0 \\\\\n",
       "\t26 & China & 1439323774 & 2020-01-25 & 441.0 & 15.0 & 1323.0 & 41.0 \\\\\n",
       "\t27 & China & 1439323774 & 2020-01-26 & 665.0 & 15.0 & 1988.0 & 56.0 \\\\\n",
       "\t28 & China & 1439323774 & 2020-01-27 & 787.0 & 25.0 & 2775.0 & 81.0 \\\\\n",
       "\t29 & China & 1439323774 & 2020-01-28 & 1753.0 & 25.0 & 4528.0 & 106.0 \\\\\n",
       "\t30 & China & 1439323774 & 2020-01-29 & 1466.0 & 26.0 & 5994.0 & 132.0 \\\\\n",
       "\t$\\dots$ & $\\dots$ & $\\dots$ & $\\dots$ & $\\dots$ & $\\dots$ & $\\dots$ & $\\dots$ \\\\\n",
       "\\end{tabular}\n"
      ],
      "text/plain": [
       "\u001b[1m335×7 DataFrame\u001b[0m\n",
       "\u001b[1m Row \u001b[0m│\u001b[1m location \u001b[0m\u001b[1m population \u001b[0m\u001b[1m date       \u001b[0m\u001b[1m new_cases \u001b[0m\u001b[1m new_deaths \u001b[0m\u001b[1m total_cases \u001b[0m\u001b[1m total_deaths \u001b[0m\n",
       "\u001b[1m     \u001b[0m│\u001b[90m String   \u001b[0m\u001b[90m Int64?     \u001b[0m\u001b[90m Date…      \u001b[0m\u001b[90m Float64   \u001b[0m\u001b[90m Float64    \u001b[0m\u001b[90m Float64     \u001b[0m\u001b[90m Float64      \u001b[0m\n",
       "─────┼────────────────────────────────────────────────────────────────────────────────────\n",
       "   1 │ China     1439323774  2019-12-31       27.0         0.0         27.0           0.0\n",
       "   2 │ China     1439323774  2020-01-01        0.0         0.0         27.0           0.0\n",
       "   3 │ China     1439323774  2020-01-02        0.0         0.0         27.0           0.0\n",
       "   4 │ China     1439323774  2020-01-03       17.0         0.0         44.0           0.0\n",
       "   5 │ China     1439323774  2020-01-04        0.0         0.0         44.0           0.0\n",
       "   6 │ China     1439323774  2020-01-05       15.0         0.0         59.0           0.0\n",
       "   7 │ China     1439323774  2020-01-06        0.0         0.0         59.0           0.0\n",
       "   8 │ China     1439323774  2020-01-07        0.0         0.0         59.0           0.0\n",
       "   9 │ China     1439323774  2020-01-08        0.0         0.0         59.0           0.0\n",
       "  10 │ China     1439323774  2020-01-09        0.0         0.0         59.0           0.0\n",
       "  11 │ China     1439323774  2020-01-10        0.0         0.0         59.0           0.0\n",
       "  ⋮  │    ⋮          ⋮           ⋮           ⋮          ⋮            ⋮            ⋮\n",
       " 326 │ China     1439323774  2020-11-20       17.0         0.0      91688.0        4739.0\n",
       " 327 │ China     1439323774  2020-11-21       16.0         0.0      91704.0        4739.0\n",
       " 328 │ China     1439323774  2020-11-22       16.0         0.0      91720.0        4739.0\n",
       " 329 │ China     1439323774  2020-11-23       11.0         0.0      91731.0        4739.0\n",
       " 330 │ China     1439323774  2020-11-24       22.0         0.0      91753.0        4739.0\n",
       " 331 │ China     1439323774  2020-11-25        5.0         0.0      91758.0        4739.0\n",
       " 332 │ China     1439323774  2020-11-26       21.0         0.0      91779.0        4739.0\n",
       " 333 │ China     1439323774  2020-11-27        5.0         0.0      91784.0        4739.0\n",
       " 334 │ China     1439323774  2020-11-28        6.0         0.0      91790.0        4739.0\n",
       " 335 │ China     1439323774  2020-11-29        6.0         0.0      91796.0        4739.0\n",
       "\u001b[36m                                                                          314 rows omitted\u001b[0m"
      ]
     },
     "execution_count": 7,
     "metadata": {},
     "output_type": "execute_result"
    }
   ],
   "source": [
    "data() |>\n",
    "@select(:location, :population, :date, :new_cases,\n",
    "        :new_deaths, :total_cases, :total_deaths) |>\n",
    "@filter(_.location == \"China\") |>\n",
    "DataFrame"
   ]
  },
  {
   "cell_type": "code",
   "execution_count": 12,
   "metadata": {},
   "outputs": [
    {
     "data": {
      "text/html": [
       "<table class=\"data-frame\"><thead><tr><th></th><th>location</th><th>population</th><th>new_cases</th><th>date</th></tr><tr><th></th><th>String</th><th>Int64?</th><th>Float64</th><th>Date…</th></tr></thead><tbody><p>335 rows × 4 columns</p><tr><th>1</th><td>United States</td><td>331002647</td><td>0.0</td><td>2019-12-31</td></tr><tr><th>2</th><td>United States</td><td>331002647</td><td>0.0</td><td>2020-01-01</td></tr><tr><th>3</th><td>United States</td><td>331002647</td><td>0.0</td><td>2020-01-02</td></tr><tr><th>4</th><td>United States</td><td>331002647</td><td>0.0</td><td>2020-01-03</td></tr><tr><th>5</th><td>United States</td><td>331002647</td><td>0.0</td><td>2020-01-04</td></tr><tr><th>6</th><td>United States</td><td>331002647</td><td>0.0</td><td>2020-01-05</td></tr><tr><th>7</th><td>United States</td><td>331002647</td><td>0.0</td><td>2020-01-06</td></tr><tr><th>8</th><td>United States</td><td>331002647</td><td>0.0</td><td>2020-01-07</td></tr><tr><th>9</th><td>United States</td><td>331002647</td><td>0.0</td><td>2020-01-08</td></tr><tr><th>10</th><td>United States</td><td>331002647</td><td>0.0</td><td>2020-01-09</td></tr><tr><th>11</th><td>United States</td><td>331002647</td><td>0.0</td><td>2020-01-10</td></tr><tr><th>12</th><td>United States</td><td>331002647</td><td>0.0</td><td>2020-01-11</td></tr><tr><th>13</th><td>United States</td><td>331002647</td><td>0.0</td><td>2020-01-12</td></tr><tr><th>14</th><td>United States</td><td>331002647</td><td>0.0</td><td>2020-01-13</td></tr><tr><th>15</th><td>United States</td><td>331002647</td><td>0.0</td><td>2020-01-14</td></tr><tr><th>16</th><td>United States</td><td>331002647</td><td>0.0</td><td>2020-01-15</td></tr><tr><th>17</th><td>United States</td><td>331002647</td><td>0.0</td><td>2020-01-16</td></tr><tr><th>18</th><td>United States</td><td>331002647</td><td>0.0</td><td>2020-01-17</td></tr><tr><th>19</th><td>United States</td><td>331002647</td><td>0.0</td><td>2020-01-18</td></tr><tr><th>20</th><td>United States</td><td>331002647</td><td>0.0</td><td>2020-01-19</td></tr><tr><th>21</th><td>United States</td><td>331002647</td><td>0.0</td><td>2020-01-20</td></tr><tr><th>22</th><td>United States</td><td>331002647</td><td>1.0</td><td>2020-01-21</td></tr><tr><th>23</th><td>United States</td><td>331002647</td><td>0.0</td><td>2020-01-22</td></tr><tr><th>24</th><td>United States</td><td>331002647</td><td>0.0</td><td>2020-01-23</td></tr><tr><th>25</th><td>United States</td><td>331002647</td><td>0.0</td><td>2020-01-24</td></tr><tr><th>26</th><td>United States</td><td>331002647</td><td>1.0</td><td>2020-01-25</td></tr><tr><th>27</th><td>United States</td><td>331002647</td><td>0.0</td><td>2020-01-26</td></tr><tr><th>28</th><td>United States</td><td>331002647</td><td>3.0</td><td>2020-01-27</td></tr><tr><th>29</th><td>United States</td><td>331002647</td><td>0.0</td><td>2020-01-28</td></tr><tr><th>30</th><td>United States</td><td>331002647</td><td>0.0</td><td>2020-01-29</td></tr><tr><th>&vellip;</th><td>&vellip;</td><td>&vellip;</td><td>&vellip;</td><td>&vellip;</td></tr></tbody></table>"
      ],
      "text/latex": [
       "\\begin{tabular}{r|cccc}\n",
       "\t& location & population & new\\_cases & date\\\\\n",
       "\t\\hline\n",
       "\t& String & Int64? & Float64 & Date…\\\\\n",
       "\t\\hline\n",
       "\t1 & United States & 331002647 & 0.0 & 2019-12-31 \\\\\n",
       "\t2 & United States & 331002647 & 0.0 & 2020-01-01 \\\\\n",
       "\t3 & United States & 331002647 & 0.0 & 2020-01-02 \\\\\n",
       "\t4 & United States & 331002647 & 0.0 & 2020-01-03 \\\\\n",
       "\t5 & United States & 331002647 & 0.0 & 2020-01-04 \\\\\n",
       "\t6 & United States & 331002647 & 0.0 & 2020-01-05 \\\\\n",
       "\t7 & United States & 331002647 & 0.0 & 2020-01-06 \\\\\n",
       "\t8 & United States & 331002647 & 0.0 & 2020-01-07 \\\\\n",
       "\t9 & United States & 331002647 & 0.0 & 2020-01-08 \\\\\n",
       "\t10 & United States & 331002647 & 0.0 & 2020-01-09 \\\\\n",
       "\t11 & United States & 331002647 & 0.0 & 2020-01-10 \\\\\n",
       "\t12 & United States & 331002647 & 0.0 & 2020-01-11 \\\\\n",
       "\t13 & United States & 331002647 & 0.0 & 2020-01-12 \\\\\n",
       "\t14 & United States & 331002647 & 0.0 & 2020-01-13 \\\\\n",
       "\t15 & United States & 331002647 & 0.0 & 2020-01-14 \\\\\n",
       "\t16 & United States & 331002647 & 0.0 & 2020-01-15 \\\\\n",
       "\t17 & United States & 331002647 & 0.0 & 2020-01-16 \\\\\n",
       "\t18 & United States & 331002647 & 0.0 & 2020-01-17 \\\\\n",
       "\t19 & United States & 331002647 & 0.0 & 2020-01-18 \\\\\n",
       "\t20 & United States & 331002647 & 0.0 & 2020-01-19 \\\\\n",
       "\t21 & United States & 331002647 & 0.0 & 2020-01-20 \\\\\n",
       "\t22 & United States & 331002647 & 1.0 & 2020-01-21 \\\\\n",
       "\t23 & United States & 331002647 & 0.0 & 2020-01-22 \\\\\n",
       "\t24 & United States & 331002647 & 0.0 & 2020-01-23 \\\\\n",
       "\t25 & United States & 331002647 & 0.0 & 2020-01-24 \\\\\n",
       "\t26 & United States & 331002647 & 1.0 & 2020-01-25 \\\\\n",
       "\t27 & United States & 331002647 & 0.0 & 2020-01-26 \\\\\n",
       "\t28 & United States & 331002647 & 3.0 & 2020-01-27 \\\\\n",
       "\t29 & United States & 331002647 & 0.0 & 2020-01-28 \\\\\n",
       "\t30 & United States & 331002647 & 0.0 & 2020-01-29 \\\\\n",
       "\t$\\dots$ & $\\dots$ & $\\dots$ & $\\dots$ & $\\dots$ \\\\\n",
       "\\end{tabular}\n"
      ],
      "text/plain": [
       "\u001b[1m335×4 DataFrame\u001b[0m\n",
       "\u001b[1m Row \u001b[0m│\u001b[1m location      \u001b[0m\u001b[1m population \u001b[0m\u001b[1m new_cases \u001b[0m\u001b[1m date       \u001b[0m\n",
       "\u001b[1m     \u001b[0m│\u001b[90m String        \u001b[0m\u001b[90m Int64?     \u001b[0m\u001b[90m Float64   \u001b[0m\u001b[90m Date…      \u001b[0m\n",
       "─────┼──────────────────────────────────────────────────\n",
       "   1 │ United States   331002647        0.0  2019-12-31\n",
       "   2 │ United States   331002647        0.0  2020-01-01\n",
       "   3 │ United States   331002647        0.0  2020-01-02\n",
       "   4 │ United States   331002647        0.0  2020-01-03\n",
       "   5 │ United States   331002647        0.0  2020-01-04\n",
       "   6 │ United States   331002647        0.0  2020-01-05\n",
       "   7 │ United States   331002647        0.0  2020-01-06\n",
       "   8 │ United States   331002647        0.0  2020-01-07\n",
       "   9 │ United States   331002647        0.0  2020-01-08\n",
       "  10 │ United States   331002647        0.0  2020-01-09\n",
       "  11 │ United States   331002647        0.0  2020-01-10\n",
       "  ⋮  │       ⋮            ⋮           ⋮          ⋮\n",
       " 326 │ United States   331002647   188020.0  2020-11-20\n",
       " 327 │ United States   331002647   196117.0  2020-11-21\n",
       " 328 │ United States   331002647   175494.0  2020-11-22\n",
       " 329 │ United States   331002647   157471.0  2020-11-23\n",
       " 330 │ United States   331002647   173963.0  2020-11-24\n",
       " 331 │ United States   331002647   170293.0  2020-11-25\n",
       " 332 │ United States   331002647   186589.0  2020-11-26\n",
       " 333 │ United States   331002647   106091.0  2020-11-27\n",
       " 334 │ United States   331002647   207913.0  2020-11-28\n",
       " 335 │ United States   331002647   154893.0  2020-11-29\n",
       "\u001b[36m                                        314 rows omitted\u001b[0m"
      ]
     },
     "execution_count": 12,
     "metadata": {},
     "output_type": "execute_result"
    }
   ],
   "source": [
    "data() |>\n",
    "@select(:location, :population, :new_cases, new_deaths, :date) |>\n",
    "@filter(_.location == \"United States\") |>\n",
    "DataFrame"
   ]
  },
  {
   "cell_type": "code",
   "execution_count": null,
   "metadata": {},
   "outputs": [],
   "source": []
  }
 ],
 "metadata": {
  "kernelspec": {
   "display_name": "Julia 1.5.3",
   "language": "julia",
   "name": "julia-1.5"
  },
  "language_info": {
   "file_extension": ".jl",
   "mimetype": "application/julia",
   "name": "julia",
   "version": "1.5.3"
  }
 },
 "nbformat": 4,
 "nbformat_minor": 4
}
